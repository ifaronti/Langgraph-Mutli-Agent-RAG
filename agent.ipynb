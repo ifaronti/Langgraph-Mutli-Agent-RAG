{
 "cells": [
  {
   "cell_type": "code",
   "execution_count": 2,
   "id": "50c2f764",
   "metadata": {},
   "outputs": [],
   "source": [
    "import os\n",
    "from langgraph.graph import StateGraph, END\n",
    "from typing import TypedDict, Annotated, Sequence\n",
    "from langchain_core.messages import BaseMessage, SystemMessage, HumanMessage, ToolMessage\n",
    "from operator import add as add_messages\n",
    "from langchain_google_genai import ChatGoogleGenerativeAI, GoogleGenerativeAIEmbeddings\n",
    "from langchain_community.document_loaders import PyPDFLoader\n",
    "from langchain.text_splitter import RecursiveCharacterTextSplitter\n",
    "from langchain_chroma import Chroma\n",
    "from langchain_core.tools import tool\n",
    "from pydantic_settings import BaseSettings\n",
    "# from file_path import file_path\n",
    "from pathlib import Path\n",
    "\n",
    "class Settings(BaseSettings):\n",
    "    GOOGLE_API_KEY:str\n",
    "\n",
    "setting = Settings()\n",
    "\n",
    "os.environ[\"GOOGLE_API_KEY\"] = setting.GOOGLE_API_KEY\n",
    "\n",
    "llm = ChatGoogleGenerativeAI(model=\"gemini-2.0-flash-001\")\n",
    "embeddings = GoogleGenerativeAIEmbeddings(model=\"models/embedding-001\")"
   ]
  },
  {
   "cell_type": "code",
   "execution_count": 3,
   "id": "32067334",
   "metadata": {},
   "outputs": [],
   "source": [
    "# path = file_path(input(\"Enter or paste path of pdf file you want to load to llm's memory\"))]\n",
    "desktop = os.path.join(os.path.expanduser(\"~\"), \"Desktop\")      # → /Users/you/Desktop\n",
    "file_name = \"africa_econ.pdf\"                                      # change this\n",
    "file_path = os.path.join(desktop, file_name)\n",
    "\n",
    "try:\n",
    "    if not os.path.isfile(file_path):\n",
    "        raise FileNotFoundError(\"The path does not exist\")\n",
    "    \n",
    "    file_pages = PyPDFLoader(file_path).load()\n",
    "except Exception as e:\n",
    "    print(str(e))\n",
    "    raise"
   ]
  },
  {
   "cell_type": "code",
   "execution_count": 4,
   "id": "58c372ca",
   "metadata": {},
   "outputs": [],
   "source": [
    "splitter = RecursiveCharacterTextSplitter(chunk_size=1000, chunk_overlap=120)\n",
    "docs = splitter.split_documents(file_pages)"
   ]
  },
  {
   "cell_type": "code",
   "execution_count": 5,
   "id": "8a1d27d1",
   "metadata": {},
   "outputs": [],
   "source": [
    "chroma_dir = \"./Africonomy\"\n",
    "\n",
    "if not os.path.isdir(chroma_dir):\n",
    "    os.mkdir(chroma_dir)\n",
    "\n",
    "try:\n",
    "        vector_store = Chroma.from_documents(\n",
    "        documents=docs,\n",
    "        persist_directory=chroma_dir,\n",
    "        embedding=embeddings,\n",
    "        collection_name=\"Africonomy\"\n",
    "    )\n",
    "except Exception as e:\n",
    "      print(str(e))\n",
    "      raise"
   ]
  },
  {
   "cell_type": "code",
   "execution_count": 6,
   "id": "db28e877",
   "metadata": {},
   "outputs": [],
   "source": [
    "retriever = vector_store.as_retriever(\n",
    "    search_type=\"similarity_score_threshold\", \n",
    "    search_kwargs={\"k\":80, \"score_threshold\":0.5}\n",
    ")"
   ]
  },
  {
   "cell_type": "code",
   "execution_count": 41,
   "id": "372cb844",
   "metadata": {},
   "outputs": [],
   "source": [
    "@tool\n",
    "def retriever_tool(query:str)-> str:\n",
    "    \"\"\"Searches the vector database to retrive documents based on recieved query.\"\"\"\n",
    "\n",
    "    docs = retriever.invoke(query)\n",
    "\n",
    "    if not docs:\n",
    "        return \"No document matches the query in the vector db\"\n",
    "    \n",
    "    response: list[str] =[]\n",
    "    \n",
    "    for i, doc in enumerate(docs):\n",
    "        response.append(f\"document {i+1}: {doc}\")\n",
    "\n",
    "    return \"\\n \".join(response)\n"
   ]
  },
  {
   "cell_type": "code",
   "execution_count": 42,
   "id": "6d28782d",
   "metadata": {},
   "outputs": [],
   "source": [
    "tools = [retriever_tool]\n",
    "llm = llm.bind_tools(tools)\n",
    "\n",
    "class AgenState(TypedDict):\n",
    "    messages:Annotated[Sequence[BaseMessage], add_messages]\n",
    "\n",
    "tools_dict = {tool.name:tool for tool in tools}\n",
    "\n",
    "sys_prompt = \"\"\"You are an intelligent research assistant. Answer quetions based on the \n",
    "documents loaded into your memory and assist the user with researches.\n",
    "\n",
    "- Always site contents from the document\n",
    "- Each sentence should begin on new line\n",
    "- If user needs to be more specific, inform as such.\n",
    "\"\"\""
   ]
  },
  {
   "cell_type": "code",
   "execution_count": 44,
   "id": "b6cd37bb",
   "metadata": {},
   "outputs": [],
   "source": [
    "def call_llm(state:AgenState)-> AgenState:\n",
    "    \"\"\"Calls the llm to invoke tool based on query recieved from user.\"\"\"\n",
    "\n",
    "    messages = list(state['messages']) + [SystemMessage(content=sys_prompt)]\n",
    "\n",
    "    response = llm.invoke(messages)\n",
    "\n",
    "    print(\"\\n AI: \", response.content)\n",
    "\n",
    "    return {\"messages\":[response]}"
   ]
  },
  {
   "cell_type": "code",
   "execution_count": 45,
   "id": "df7327b0",
   "metadata": {},
   "outputs": [],
   "source": [
    "def should_continue(state:AgenState)->bool:\n",
    "    \"\"\"Checks the last message for tool calls to determine if to call another tool or \n",
    "    end the conversation.\n",
    "    \"\"\"\n",
    "\n",
    "    last_msg = state['messages'][-1]\n",
    "\n",
    "    return hasattr(last_msg, \"tool_calls\") and len(last_msg.tool_calls) > 0"
   ]
  },
  {
   "cell_type": "code",
   "execution_count": 46,
   "id": "b1a2ee8d",
   "metadata": {},
   "outputs": [],
   "source": [
    "def invoke_tool(state:AgenState)-> AgenState:\n",
    "    \"\"\"Invokes the needed tool and checks that the tool name exists before call.\"\"\"\n",
    "\n",
    "    tool_calls = state['messages'][-1].tool_calls #type: ignore\n",
    "\n",
    "    results:Sequence[BaseMessage] = []\n",
    "\n",
    "    for t in tool_calls: #type:ignore\n",
    "        if not t['name'] in tools_dict: #type:ignore\n",
    "            print(\"Invalid tool call.\")\n",
    "            result = f\"{t['name']} is not a defined tool from the tools list.\"\n",
    "        else:\n",
    "            print(f\"calling tool: {t['name']} \")\n",
    "            result = tools_dict[t['name']].invoke(t['args'].get('query', '')) #type: ignore\n",
    "\n",
    "        results.append(ToolMessage(tool_call_id=t['id'], tool_name=t['name'], content=str(result)))\n",
    "\n",
    "    return {\"messages\": results}\n",
    "        \n"
   ]
  },
  {
   "cell_type": "code",
   "execution_count": 48,
   "id": "f2e7a210",
   "metadata": {},
   "outputs": [],
   "source": [
    "graph = StateGraph(AgenState)\n",
    "\n",
    "graph.add_node('llm', call_llm)\n",
    "graph.add_node('retriever', invoke_tool)\n",
    "graph.add_edge('retriever', 'llm')\n",
    "graph.set_entry_point('llm')\n",
    "\n",
    "graph.add_conditional_edges(\n",
    "    \"llm\",\n",
    "    should_continue,\n",
    "    {\n",
    "        True:'retriever',\n",
    "        False:END\n",
    "    }\n",
    ")\n",
    "\n",
    "app = graph.compile()"
   ]
  },
  {
   "cell_type": "code",
   "execution_count": null,
   "id": "cd6413f0",
   "metadata": {},
   "outputs": [],
   "source": []
  },
  {
   "cell_type": "code",
   "execution_count": 51,
   "id": "5bd32b1e",
   "metadata": {},
   "outputs": [
    {
     "name": "stdout",
     "output_type": "stream",
     "text": [
      "\n",
      " User:  What is the research about\n",
      "\n",
      " AI:  Please provide me with the query you want me to use to find the research topic.\n",
      "\n",
      " User:  The research on African economy\n",
      "\n",
      " AI:  \n",
      "calling tool: retriever_tool \n",
      "\n",
      " AI:  The African Economic Outlook 2025 focuses on making Africa’s capital work better for Africa’s development. It includes country notes for various African nations and regions, and discusses topics such as industrial policy, inflationary pressures, investment growth, and strategies for sustainable economic growth. The report also touches on the African Continental Free Trade Area, and the role of international and regional development banks in supporting African economies.\n"
     ]
    }
   ],
   "source": [
    "query = input(\"\\n Enter query about the document African Economic outlook 2025\")\n",
    "\n",
    "while query != 'exit':\n",
    "    print(\"\\n User: \", query)\n",
    "\n",
    "    result = app.invoke({\"messages\": [HumanMessage(content=query)]})\n",
    "    \n",
    "    query = input(\"\\n Enter query about the document African Economic outlook 2025\")\n",
    "\n",
    "# Have to mention the name of file to trigger tool call else it'll keep asking for query."
   ]
  }
 ],
 "metadata": {
  "kernelspec": {
   "display_name": "venv (3.13.2)",
   "language": "python",
   "name": "python3"
  },
  "language_info": {
   "codemirror_mode": {
    "name": "ipython",
    "version": 3
   },
   "file_extension": ".py",
   "mimetype": "text/x-python",
   "name": "python",
   "nbconvert_exporter": "python",
   "pygments_lexer": "ipython3",
   "version": "3.13.2"
  }
 },
 "nbformat": 4,
 "nbformat_minor": 5
}
